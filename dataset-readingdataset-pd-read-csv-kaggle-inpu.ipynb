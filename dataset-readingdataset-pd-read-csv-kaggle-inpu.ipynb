{
 "cells": [
  {
   "cell_type": "code",
   "execution_count": 1,
   "id": "ccfef643",
   "metadata": {
    "execution": {
     "iopub.execute_input": "2025-04-14T15:44:55.763031Z",
     "iopub.status.busy": "2025-04-14T15:44:55.762653Z",
     "iopub.status.idle": "2025-04-14T15:44:56.289109Z",
     "shell.execute_reply": "2025-04-14T15:44:56.288216Z"
    },
    "papermill": {
     "duration": 0.532006,
     "end_time": "2025-04-14T15:44:56.290602",
     "exception": false,
     "start_time": "2025-04-14T15:44:55.758596",
     "status": "completed"
    },
    "tags": []
   },
   "outputs": [
    {
     "name": "stdout",
     "output_type": "stream",
     "text": [
      "Data source import complete.\n"
     ]
    }
   ],
   "source": [
    "import kagglehub\n",
    "taruntiwarihp_phishing_site_urls_path = kagglehub.dataset_download('taruntiwarihp/phishing-site-urls')\n",
    "\n",
    "print('Data source import complete.')\n"
   ]
  },
  {
   "cell_type": "code",
   "execution_count": 2,
   "id": "94522ec8",
   "metadata": {
    "_cell_guid": "b1076dfc-b9ad-4769-8c92-a6c4dae69d19",
    "_uuid": "8f2839f25d086af736a60e9eeb907d3b93b6e0e5",
    "execution": {
     "iopub.execute_input": "2025-04-14T15:44:56.297234Z",
     "iopub.status.busy": "2025-04-14T15:44:56.296491Z",
     "iopub.status.idle": "2025-04-14T15:44:58.276629Z",
     "shell.execute_reply": "2025-04-14T15:44:58.275480Z"
    },
    "papermill": {
     "duration": 1.984816,
     "end_time": "2025-04-14T15:44:58.278103",
     "exception": false,
     "start_time": "2025-04-14T15:44:56.293287",
     "status": "completed"
    },
    "tags": []
   },
   "outputs": [
    {
     "name": "stdout",
     "output_type": "stream",
     "text": [
      "/kaggle/input/phishing-site-urls/phishing_site_urls.csv\n"
     ]
    }
   ],
   "source": [
    "# This Python 3 environment comes with many helpful analytics libraries installed\n",
    "# It is defined by the kaggle/python Docker image: https://github.com/kaggle/docker-python\n",
    "# For example, here's several helpful packages to load\n",
    "\n",
    "import numpy as np # linear algebra\n",
    "import pandas as pd # data processing, CSV file I/O (e.g. pd.read_csv)\n",
    "\n",
    "# Input data files are available in the read-only \"../input/\" directory\n",
    "# For example, running this (by clicking run or pressing Shift+Enter) will list all files under the input directory\n",
    "\n",
    "import os\n",
    "for dirname, _, filenames in os.walk('/kaggle/input'):\n",
    "    for filename in filenames:\n",
    "        print(os.path.join(dirname, filename))\n",
    "\n",
    "# You can write up to 20GB to the current directory (/kaggle/working/) that gets preserved as output when you create a version using \"Save & Run All\" \n",
    "# You can also write temporary files to /kaggle/temp/, but they won't be saved outside of the current session"
   ]
  },
  {
   "cell_type": "code",
   "execution_count": 3,
   "id": "6f8ac44a",
   "metadata": {
    "execution": {
     "iopub.execute_input": "2025-04-14T15:44:58.285496Z",
     "iopub.status.busy": "2025-04-14T15:44:58.284929Z",
     "iopub.status.idle": "2025-04-14T15:44:59.570730Z",
     "shell.execute_reply": "2025-04-14T15:44:59.569990Z"
    },
    "papermill": {
     "duration": 1.291556,
     "end_time": "2025-04-14T15:44:59.572424",
     "exception": false,
     "start_time": "2025-04-14T15:44:58.280868",
     "status": "completed"
    },
    "tags": []
   },
   "outputs": [],
   "source": [
    "dataset = pd.read_csv(\"/kaggle/input/phishing-site-urls/phishing_site_urls.csv\")"
   ]
  },
  {
   "cell_type": "code",
   "execution_count": 4,
   "id": "378d7d8b",
   "metadata": {
    "execution": {
     "iopub.execute_input": "2025-04-14T15:44:59.578249Z",
     "iopub.status.busy": "2025-04-14T15:44:59.577979Z",
     "iopub.status.idle": "2025-04-14T15:44:59.600580Z",
     "shell.execute_reply": "2025-04-14T15:44:59.599732Z"
    },
    "papermill": {
     "duration": 0.027108,
     "end_time": "2025-04-14T15:44:59.602034",
     "exception": false,
     "start_time": "2025-04-14T15:44:59.574926",
     "status": "completed"
    },
    "tags": []
   },
   "outputs": [
    {
     "data": {
      "text/html": [
       "<div>\n",
       "<style scoped>\n",
       "    .dataframe tbody tr th:only-of-type {\n",
       "        vertical-align: middle;\n",
       "    }\n",
       "\n",
       "    .dataframe tbody tr th {\n",
       "        vertical-align: top;\n",
       "    }\n",
       "\n",
       "    .dataframe thead th {\n",
       "        text-align: right;\n",
       "    }\n",
       "</style>\n",
       "<table border=\"1\" class=\"dataframe\">\n",
       "  <thead>\n",
       "    <tr style=\"text-align: right;\">\n",
       "      <th></th>\n",
       "      <th>URL</th>\n",
       "      <th>Label</th>\n",
       "    </tr>\n",
       "  </thead>\n",
       "  <tbody>\n",
       "    <tr>\n",
       "      <th>0</th>\n",
       "      <td>nobell.it/70ffb52d079109dca5664cce6f317373782/...</td>\n",
       "      <td>bad</td>\n",
       "    </tr>\n",
       "    <tr>\n",
       "      <th>1</th>\n",
       "      <td>www.dghjdgf.com/paypal.co.uk/cycgi-bin/webscrc...</td>\n",
       "      <td>bad</td>\n",
       "    </tr>\n",
       "    <tr>\n",
       "      <th>2</th>\n",
       "      <td>serviciosbys.com/paypal.cgi.bin.get-into.herf....</td>\n",
       "      <td>bad</td>\n",
       "    </tr>\n",
       "    <tr>\n",
       "      <th>3</th>\n",
       "      <td>mail.printakid.com/www.online.americanexpress....</td>\n",
       "      <td>bad</td>\n",
       "    </tr>\n",
       "    <tr>\n",
       "      <th>4</th>\n",
       "      <td>thewhiskeydregs.com/wp-content/themes/widescre...</td>\n",
       "      <td>bad</td>\n",
       "    </tr>\n",
       "  </tbody>\n",
       "</table>\n",
       "</div>"
      ],
      "text/plain": [
       "                                                 URL Label\n",
       "0  nobell.it/70ffb52d079109dca5664cce6f317373782/...   bad\n",
       "1  www.dghjdgf.com/paypal.co.uk/cycgi-bin/webscrc...   bad\n",
       "2  serviciosbys.com/paypal.cgi.bin.get-into.herf....   bad\n",
       "3  mail.printakid.com/www.online.americanexpress....   bad\n",
       "4  thewhiskeydregs.com/wp-content/themes/widescre...   bad"
      ]
     },
     "execution_count": 4,
     "metadata": {},
     "output_type": "execute_result"
    }
   ],
   "source": [
    "dataset.head()"
   ]
  },
  {
   "cell_type": "code",
   "execution_count": 5,
   "id": "76d89c1e",
   "metadata": {
    "execution": {
     "iopub.execute_input": "2025-04-14T15:44:59.608117Z",
     "iopub.status.busy": "2025-04-14T15:44:59.607844Z",
     "iopub.status.idle": "2025-04-14T15:44:59.615889Z",
     "shell.execute_reply": "2025-04-14T15:44:59.615204Z"
    },
    "papermill": {
     "duration": 0.012404,
     "end_time": "2025-04-14T15:44:59.617126",
     "exception": false,
     "start_time": "2025-04-14T15:44:59.604722",
     "status": "completed"
    },
    "tags": []
   },
   "outputs": [
    {
     "data": {
      "text/html": [
       "<div>\n",
       "<style scoped>\n",
       "    .dataframe tbody tr th:only-of-type {\n",
       "        vertical-align: middle;\n",
       "    }\n",
       "\n",
       "    .dataframe tbody tr th {\n",
       "        vertical-align: top;\n",
       "    }\n",
       "\n",
       "    .dataframe thead th {\n",
       "        text-align: right;\n",
       "    }\n",
       "</style>\n",
       "<table border=\"1\" class=\"dataframe\">\n",
       "  <thead>\n",
       "    <tr style=\"text-align: right;\">\n",
       "      <th></th>\n",
       "      <th>URL</th>\n",
       "      <th>Label</th>\n",
       "    </tr>\n",
       "  </thead>\n",
       "  <tbody>\n",
       "    <tr>\n",
       "      <th>549341</th>\n",
       "      <td>23.227.196.215/</td>\n",
       "      <td>bad</td>\n",
       "    </tr>\n",
       "    <tr>\n",
       "      <th>549342</th>\n",
       "      <td>apple-checker.org/</td>\n",
       "      <td>bad</td>\n",
       "    </tr>\n",
       "    <tr>\n",
       "      <th>549343</th>\n",
       "      <td>apple-iclods.org/</td>\n",
       "      <td>bad</td>\n",
       "    </tr>\n",
       "    <tr>\n",
       "      <th>549344</th>\n",
       "      <td>apple-uptoday.org/</td>\n",
       "      <td>bad</td>\n",
       "    </tr>\n",
       "    <tr>\n",
       "      <th>549345</th>\n",
       "      <td>apple-search.info</td>\n",
       "      <td>bad</td>\n",
       "    </tr>\n",
       "  </tbody>\n",
       "</table>\n",
       "</div>"
      ],
      "text/plain": [
       "                       URL Label\n",
       "549341     23.227.196.215/   bad\n",
       "549342  apple-checker.org/   bad\n",
       "549343   apple-iclods.org/   bad\n",
       "549344  apple-uptoday.org/   bad\n",
       "549345   apple-search.info   bad"
      ]
     },
     "execution_count": 5,
     "metadata": {},
     "output_type": "execute_result"
    }
   ],
   "source": [
    "dataset.tail()"
   ]
  },
  {
   "cell_type": "code",
   "execution_count": 6,
   "id": "8add4212",
   "metadata": {
    "execution": {
     "iopub.execute_input": "2025-04-14T15:44:59.623492Z",
     "iopub.status.busy": "2025-04-14T15:44:59.623175Z",
     "iopub.status.idle": "2025-04-14T15:44:59.627919Z",
     "shell.execute_reply": "2025-04-14T15:44:59.627071Z"
    },
    "papermill": {
     "duration": 0.009316,
     "end_time": "2025-04-14T15:44:59.629146",
     "exception": false,
     "start_time": "2025-04-14T15:44:59.619830",
     "status": "completed"
    },
    "tags": []
   },
   "outputs": [
    {
     "name": "stdout",
     "output_type": "stream",
     "text": [
      "Dataset shape: (549346, 2)\n"
     ]
    }
   ],
   "source": [
    "print(\"Dataset shape:\", dataset.shape)"
   ]
  },
  {
   "cell_type": "code",
   "execution_count": 7,
   "id": "1e07ac8b",
   "metadata": {
    "execution": {
     "iopub.execute_input": "2025-04-14T15:44:59.635502Z",
     "iopub.status.busy": "2025-04-14T15:44:59.635185Z",
     "iopub.status.idle": "2025-04-14T15:44:59.642185Z",
     "shell.execute_reply": "2025-04-14T15:44:59.641377Z"
    },
    "papermill": {
     "duration": 0.011715,
     "end_time": "2025-04-14T15:44:59.643523",
     "exception": false,
     "start_time": "2025-04-14T15:44:59.631808",
     "status": "completed"
    },
    "tags": []
   },
   "outputs": [
    {
     "data": {
      "text/plain": [
       "Index(['URL', 'Label'], dtype='object')"
      ]
     },
     "execution_count": 7,
     "metadata": {},
     "output_type": "execute_result"
    }
   ],
   "source": [
    "dataset.keys()"
   ]
  },
  {
   "cell_type": "code",
   "execution_count": 8,
   "id": "3825da54",
   "metadata": {
    "execution": {
     "iopub.execute_input": "2025-04-14T15:44:59.651271Z",
     "iopub.status.busy": "2025-04-14T15:44:59.650987Z",
     "iopub.status.idle": "2025-04-14T15:44:59.721079Z",
     "shell.execute_reply": "2025-04-14T15:44:59.720147Z"
    },
    "papermill": {
     "duration": 0.07495,
     "end_time": "2025-04-14T15:44:59.722538",
     "exception": false,
     "start_time": "2025-04-14T15:44:59.647588",
     "status": "completed"
    },
    "tags": []
   },
   "outputs": [
    {
     "data": {
      "text/plain": [
       "URL      0\n",
       "Label    0\n",
       "dtype: int64"
      ]
     },
     "execution_count": 8,
     "metadata": {},
     "output_type": "execute_result"
    }
   ],
   "source": [
    "dataset.isnull().sum()"
   ]
  }
 ],
 "metadata": {
  "kaggle": {
   "accelerator": "none",
   "dataSources": [
    {
     "databundleVersionId": 1391589,
     "datasetId": 791543,
     "sourceId": 1359146,
     "sourceType": "datasetVersion"
    }
   ],
   "dockerImageVersionId": 31012,
   "isGpuEnabled": false,
   "isInternetEnabled": true,
   "language": "python",
   "sourceType": "notebook"
  },
  "kernelspec": {
   "display_name": "Python 3",
   "language": "python",
   "name": "python3"
  },
  "language_info": {
   "codemirror_mode": {
    "name": "ipython",
    "version": 3
   },
   "file_extension": ".py",
   "mimetype": "text/x-python",
   "name": "python",
   "nbconvert_exporter": "python",
   "pygments_lexer": "ipython3",
   "version": "3.11.11"
  },
  "papermill": {
   "default_parameters": {},
   "duration": 9.199521,
   "end_time": "2025-04-14T15:45:00.244368",
   "environment_variables": {},
   "exception": null,
   "input_path": "__notebook__.ipynb",
   "output_path": "__notebook__.ipynb",
   "parameters": {},
   "start_time": "2025-04-14T15:44:51.044847",
   "version": "2.6.0"
  }
 },
 "nbformat": 4,
 "nbformat_minor": 5
}
